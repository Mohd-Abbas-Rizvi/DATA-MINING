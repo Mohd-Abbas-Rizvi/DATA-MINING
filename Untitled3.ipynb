{
 "cells": [
  {
   "cell_type": "code",
   "execution_count": 1,
   "id": "5d2aaddc-156d-4057-b0ec-381654e7cd4b",
   "metadata": {},
   "outputs": [
    {
     "name": "stdout",
     "output_type": "stream",
     "text": [
      "Frequent Itemsets: [frozenset({'laptop'}), frozenset({'tablet'}), frozenset({'headphones'}), frozenset({'phone_case'}), frozenset({'smartphone'}), frozenset({'power_bank'}), frozenset({'mouse'}), frozenset({'smartphone', 'tablet'}), frozenset({'laptop', 'power_bank'})]\n"
     ]
    }
   ],
   "source": [
    "from itertools import combinations\n",
    "\n",
    "# Function to calculate support of an itemset\n",
    "def calculate_support(itemset, transactions):\n",
    "    count = sum([1 for transaction in transactions if set(itemset).issubset(set(transaction))])\n",
    "    return count\n",
    "\n",
    "# Function to generate candidate itemsets of length k\n",
    "def generate_candidates(prev_frequent_itemsets, k):\n",
    "    candidates = set()\n",
    "    prev_itemsets = list(prev_frequent_itemsets)\n",
    "    for i in range(len(prev_itemsets)):\n",
    "        for j in range(i + 1, len(prev_itemsets)):\n",
    "            # Combine the two sets if their first k-1 items are the same\n",
    "            candidate = prev_itemsets[i].union(prev_itemsets[j])\n",
    "            if len(candidate) == k:\n",
    "                candidates.add(candidate)\n",
    "    return candidates\n",
    "\n",
    "# Function to prune candidates by ensuring all subsets are frequent\n",
    "def prune_candidates(candidates, prev_frequent_itemsets):\n",
    "    pruned_candidates = set()\n",
    "    for candidate in candidates:\n",
    "        is_frequent = True\n",
    "        for subset in combinations(candidate, len(candidate) - 1):\n",
    "            if frozenset(subset) not in prev_frequent_itemsets:\n",
    "                is_frequent = False\n",
    "                break\n",
    "        if is_frequent:\n",
    "            pruned_candidates.add(candidate)\n",
    "    return pruned_candidates\n",
    "\n",
    "# The Apriori algorithm\n",
    "def apriori(transactions, min_support):\n",
    "    frequent_itemsets = []\n",
    "    single_items = {frozenset([item]) for transaction in transactions for item in transaction}\n",
    "    \n",
    "    # Calculate support for single items\n",
    "    itemset_support = {item: calculate_support(item, transactions) for item in single_items}\n",
    "    \n",
    "    # Filter itemsets based on minimum support\n",
    "    prev_frequent_itemsets = {item for item, support in itemset_support.items() if support >= min_support}\n",
    "    frequent_itemsets.extend(prev_frequent_itemsets)\n",
    "\n",
    "    k = 2  # Start with pairs of items\n",
    "    while prev_frequent_itemsets:\n",
    "        candidates = generate_candidates(prev_frequent_itemsets, k)\n",
    "        candidates = prune_candidates(candidates, prev_frequent_itemsets)\n",
    "        itemset_support = {candidate: calculate_support(candidate, transactions) for candidate in candidates}\n",
    "        prev_frequent_itemsets = {itemset for itemset, support in itemset_support.items() if support >= min_support}\n",
    "        frequent_itemsets.extend(prev_frequent_itemsets)\n",
    "        k += 1\n",
    "\n",
    "    return frequent_itemsets\n",
    "\n",
    "# Example usage\n",
    "transactions = [\n",
    "    ['laptop', 'mouse', 'keyboard'],\n",
    "    ['smartphone', 'headphones'],\n",
    "    ['laptop', 'phone_case', 'power_bank'],\n",
    "    ['smartphone', 'mouse', 'tablet'],\n",
    "    ['laptop', 'headphones', 'smartwatch'],\n",
    "    ['smartphone', 'tablet', 'phone_case'],\n",
    "    ['laptop', 'power_bank', 'smartphone']\n",
    "]\n",
    "\n",
    "\n",
    "min_support = 2\n",
    "frequent_itemsets = apriori(transactions, min_support)\n",
    "print(\"Frequent Itemsets:\", frequent_itemsets)"
   ]
  },
  {
   "cell_type": "code",
   "execution_count": null,
   "id": "7edefd36-f4b6-4633-88be-fdcbb4f835d8",
   "metadata": {},
   "outputs": [],
   "source": []
  }
 ],
 "metadata": {
  "kernelspec": {
   "display_name": "Python 3 (ipykernel)",
   "language": "python",
   "name": "python3"
  },
  "language_info": {
   "codemirror_mode": {
    "name": "ipython",
    "version": 3
   },
   "file_extension": ".py",
   "mimetype": "text/x-python",
   "name": "python",
   "nbconvert_exporter": "python",
   "pygments_lexer": "ipython3",
   "version": "3.11.9"
  }
 },
 "nbformat": 4,
 "nbformat_minor": 5
}
