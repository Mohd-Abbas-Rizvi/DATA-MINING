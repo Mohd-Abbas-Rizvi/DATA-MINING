{
 "cells": [
  {
   "cell_type": "raw",
   "id": "006e7897-5ec8-4d1f-a18b-af2f04448c3b",
   "metadata": {},
   "source": [
    "import pandas as pd"
   ]
  },
  {
   "cell_type": "code",
   "execution_count": 16,
   "id": "b29122a5-8c0e-4b9f-8ac7-f389d6134db4",
   "metadata": {},
   "outputs": [
    {
     "data": {
      "text/html": [
       "<div>\n",
       "<style scoped>\n",
       "    .dataframe tbody tr th:only-of-type {\n",
       "        vertical-align: middle;\n",
       "    }\n",
       "\n",
       "    .dataframe tbody tr th {\n",
       "        vertical-align: top;\n",
       "    }\n",
       "\n",
       "    .dataframe thead th {\n",
       "        text-align: right;\n",
       "    }\n",
       "</style>\n",
       "<table border=\"1\" class=\"dataframe\">\n",
       "  <thead>\n",
       "    <tr style=\"text-align: right;\">\n",
       "      <th></th>\n",
       "      <th>Transaction</th>\n",
       "    </tr>\n",
       "  </thead>\n",
       "  <tbody>\n",
       "    <tr>\n",
       "      <th>0</th>\n",
       "      <td>milk, bread, butter</td>\n",
       "    </tr>\n",
       "    <tr>\n",
       "      <th>1</th>\n",
       "      <td>milk, bread</td>\n",
       "    </tr>\n",
       "    <tr>\n",
       "      <th>2</th>\n",
       "      <td>bread, butter</td>\n",
       "    </tr>\n",
       "    <tr>\n",
       "      <th>3</th>\n",
       "      <td>milk, bread, butter, eggs</td>\n",
       "    </tr>\n",
       "    <tr>\n",
       "      <th>4</th>\n",
       "      <td>milk, bread, eggs</td>\n",
       "    </tr>\n",
       "  </tbody>\n",
       "</table>\n",
       "</div>"
      ],
      "text/plain": [
       "                 Transaction\n",
       "0        milk, bread, butter\n",
       "1                milk, bread\n",
       "2              bread, butter\n",
       "3  milk, bread, butter, eggs\n",
       "4          milk, bread, eggs"
      ]
     },
     "execution_count": 16,
     "metadata": {},
     "output_type": "execute_result"
    }
   ],
   "source": [
    "df = pd.read_csv(\"transactions.csv\")\n",
    "df.head()"
   ]
  },
  {
   "cell_type": "code",
   "execution_count": 22,
   "id": "2becd152-907a-4e92-9975-ee15bbc93630",
   "metadata": {},
   "outputs": [],
   "source": [
    "transactions = [\n",
    "    ['milk', 'bread', 'butter'],\n",
    "    ['milk', 'bread'],\n",
    "    ['bread', 'butter'],\n",
    "    ['milk', 'bread', 'butter', 'eggs'],\n",
    "    ['milk', 'bread', 'eggs'],\n",
    "    ['butter', 'eggs']\n",
    "]"
   ]
  },
  {
   "cell_type": "code",
   "execution_count": 23,
   "id": "86f4d5f5-fa45-4c0c-ae56-009e77463ce0",
   "metadata": {},
   "outputs": [],
   "source": [
    "# Function to split a line into a list of items\n",
    "def read_transactions_from_csv(file_path):\n",
    "    transactions = []\n",
    "    with open(file_path, 'r') as file:\n",
    "        reader = csv.reader(file)\n",
    "        next(reader)  # Skip header\n",
    "        for row in reader:\n",
    "            transactions.append([item.strip() for item in row[0].split(',')])\n",
    "    return transactions"
   ]
  },
  {
   "cell_type": "code",
   "execution_count": 24,
   "id": "fe4aa3eb-937c-482d-abab-086a911edc54",
   "metadata": {},
   "outputs": [],
   "source": [
    "from itertools import combinations\n",
    "from collections import defaultdict\n",
    "\n",
    "def generate_candidates(itemsets, size):\n",
    "    \"\"\"Generate candidate itemsets of a given size.\"\"\"\n",
    "    candidates = set()\n",
    "    for itemset in itemsets:\n",
    "        for combo in combinations(itemset, size):\n",
    "            candidates.add(frozenset(combo))\n",
    "    return candidates"
   ]
  },
  {
   "cell_type": "code",
   "execution_count": 25,
   "id": "d0204fc2-dfc6-49b5-ba34-400fba994c69",
   "metadata": {},
   "outputs": [],
   "source": [
    "def count_support(transactions, candidates):\n",
    "    \"\"\"Count the support of each candidate itemset.\"\"\"\n",
    "    support_count = defaultdict(int)\n",
    "    for transaction in transactions:\n",
    "        transaction_set = set(transaction)\n",
    "        for candidate in candidates:\n",
    "            if candidate.issubset(transaction_set):\n",
    "                support_count[candidate] += 1\n",
    "    return support_count"
   ]
  },
  {
   "cell_type": "code",
   "execution_count": 26,
   "id": "c817254b-a786-4e2d-aba0-23695ce8006a",
   "metadata": {},
   "outputs": [],
   "source": [
    "def filter_frequent_itemsets(support_count, min_support):\n",
    "    \"\"\"Filter itemsets that meet the minimum support threshold.\"\"\"\n",
    "    total_transactions = len(transactions)\n",
    "    frequent_itemsets = {itemset: count / total_transactions\n",
    "                         for itemset, count in support_count.items()\n",
    "                         if count / total_transactions >= min_support}\n",
    "    return frequent_itemsets\n"
   ]
  },
  {
   "cell_type": "code",
   "execution_count": 27,
   "id": "68567858-2701-423a-9c8b-0f526f9c79ff",
   "metadata": {},
   "outputs": [],
   "source": [
    "def apriori(transactions, min_support):\n",
    "    \"\"\"Apriori algorithm to find frequent itemsets.\"\"\"\n",
    "    transactions = [set(transaction) for transaction in transactions]\n",
    "\n",
    "    frequent_itemsets = {}\n",
    "    k = 1\n",
    "    current_itemsets = set(frozenset([item]) for transaction in transactions for item in transaction)\n",
    "    \n",
    "    while current_itemsets:\n",
    "        candidates = generate_candidates(current_itemsets, k)\n",
    "        \n",
    "        support_count = count_support(transactions, candidates)\n",
    "        \n",
    "        frequent_k_itemsets = filter_frequent_itemsets(support_count, min_support)\n",
    "        \n",
    "        if not frequent_k_itemsets:\n",
    "            break\n",
    "        \n",
    "        frequent_itemsets.update(frequent_k_itemsets)\n",
    "        \n",
    "        current_itemsets = generate_candidates(frequent_k_itemsets.keys(), k + 1)\n",
    "        k += 1\n",
    "    \n",
    "    return frequent_itemsets\n"
   ]
  },
  {
   "cell_type": "code",
   "execution_count": 28,
   "id": "31544533-42db-499a-8976-6bf3942881d3",
   "metadata": {},
   "outputs": [
    {
     "name": "stdout",
     "output_type": "stream",
     "text": [
      "Itemset: {'bread'}, Support: 0.83\n",
      "Itemset: {'butter'}, Support: 0.67\n",
      "Itemset: {'milk'}, Support: 0.67\n",
      "Itemset: {'eggs'}, Support: 0.50\n"
     ]
    }
   ],
   "source": [
    "min_support = 0.5  # Minimum support threshold\n",
    "frequent_itemsets = apriori(transactions, min_support)\n",
    "\n",
    "# Print the frequent itemsets\n",
    "for itemset, support in frequent_itemsets.items():\n",
    "    print(f\"Itemset: {set(itemset)}, Support: {support:.2f}\")\n"
   ]
  },
  {
   "cell_type": "code",
   "execution_count": null,
   "id": "b363779f-070b-4752-8367-f39e9a91b9df",
   "metadata": {},
   "outputs": [],
   "source": []
  }
 ],
 "metadata": {
  "kernelspec": {
   "display_name": "Python 3 (ipykernel)",
   "language": "python",
   "name": "python3"
  },
  "language_info": {
   "codemirror_mode": {
    "name": "ipython",
    "version": 3
   },
   "file_extension": ".py",
   "mimetype": "text/x-python",
   "name": "python",
   "nbconvert_exporter": "python",
   "pygments_lexer": "ipython3",
   "version": "3.11.9"
  }
 },
 "nbformat": 4,
 "nbformat_minor": 5
}
